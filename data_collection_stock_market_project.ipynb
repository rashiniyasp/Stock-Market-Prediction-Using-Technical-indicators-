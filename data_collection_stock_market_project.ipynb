{
 "cells": [
  {
   "cell_type": "code",
   "execution_count": 1,
   "id": "235ca0c1-bfdb-4e6a-8053-e79b921c476b",
   "metadata": {},
   "outputs": [],
   "source": [
    "import yfinance as yf\n",
    "import pandas as pd\n",
    "from datetime import datetime\n"
   ]
  },
  {
   "cell_type": "code",
   "execution_count": 3,
   "id": "82eb8033-c0ad-44af-b6b6-8835572d292e",
   "metadata": {},
   "outputs": [],
   "source": [
    "\n",
    "# List of companies (tickers)\n",
    "india_tickers = [\n",
    "    \"RELIANCE.NS\", \"TCS.NS\", \"INFY.NS\", \"HDFCBANK.NS\", \"ICICIBANK.NS\",\n",
    "    \"HINDUNILVR.NS\", \"BAJFINANCE.NS\", \"SBIN.NS\", \"BHARTIARTL.NS\", \"KOTAKBANK.NS\",\n",
    "    \"ITC.NS\", \"ASIANPAINT.NS\", \"WIPRO.NS\", \"ADANIENT.NS\", \"LT.NS\",\n",
    "    \"MARUTI.NS\", \"NESTLEIND.NS\", \"ULTRACEMCO.NS\", \"HCLTECH.NS\", \"TECHM.NS\",\n",
    "    \"POWERGRID.NS\", \"SUNPHARMA.NS\", \"M&M.NS\", \"COALINDIA.NS\", \"DRREDDY.NS\",\n",
    "    \"CIPLA.NS\", \"TATASTEEL.NS\", \"GRASIM.NS\", \"INDUSINDBK.NS\", \"EICHERMOT.NS\"\n",
    "]\n",
    "\n",
    "tanzania_tickers = [\n",
    "    \"NMB\", \"CRDB\", \"TBL\", \"TCC\", \"SWISSPORT\",\n",
    "    \"TPCC\", \"PAL\", \"ACA\", \"VODA\", \"TOL\",\n",
    "    \"DSE\", \"DCB\", \"SWALA\", \"MBP\", \"JATU\",\n",
    "    \"MKOMBOZI\", \"MCB\", \"TATEPA\", \"TTP\", \"TTP\"\n",
    "]\n",
    "\n",
    "# Combine tickers\n",
    "tickers = india_tickers + tanzania_tickers\n"
   ]
  },
  {
   "cell_type": "code",
   "execution_count": 4,
   "id": "7d5650b6-9693-4edc-970b-fd9cde30b6fc",
   "metadata": {
    "scrolled": true
   },
   "outputs": [
    {
     "name": "stderr",
     "output_type": "stream",
     "text": [
      "[*********************100%***********************]  1 of 1 completed\n"
     ]
    },
    {
     "name": "stdout",
     "output_type": "stream",
     "text": [
      "Downloaded data for RELIANCE.NS\n"
     ]
    },
    {
     "name": "stderr",
     "output_type": "stream",
     "text": [
      "[*********************100%***********************]  1 of 1 completed\n"
     ]
    },
    {
     "name": "stdout",
     "output_type": "stream",
     "text": [
      "Downloaded data for TCS.NS\n"
     ]
    },
    {
     "name": "stderr",
     "output_type": "stream",
     "text": [
      "[*********************100%***********************]  1 of 1 completed\n"
     ]
    },
    {
     "name": "stdout",
     "output_type": "stream",
     "text": [
      "Downloaded data for INFY.NS\n"
     ]
    },
    {
     "name": "stderr",
     "output_type": "stream",
     "text": [
      "[*********************100%***********************]  1 of 1 completed\n"
     ]
    },
    {
     "name": "stdout",
     "output_type": "stream",
     "text": [
      "Downloaded data for HDFCBANK.NS\n"
     ]
    },
    {
     "name": "stderr",
     "output_type": "stream",
     "text": [
      "[*********************100%***********************]  1 of 1 completed\n"
     ]
    },
    {
     "name": "stdout",
     "output_type": "stream",
     "text": [
      "Downloaded data for ICICIBANK.NS\n"
     ]
    },
    {
     "name": "stderr",
     "output_type": "stream",
     "text": [
      "[*********************100%***********************]  1 of 1 completed\n"
     ]
    },
    {
     "name": "stdout",
     "output_type": "stream",
     "text": [
      "Downloaded data for HINDUNILVR.NS\n"
     ]
    },
    {
     "name": "stderr",
     "output_type": "stream",
     "text": [
      "[*********************100%***********************]  1 of 1 completed\n"
     ]
    },
    {
     "name": "stdout",
     "output_type": "stream",
     "text": [
      "Downloaded data for BAJFINANCE.NS\n"
     ]
    },
    {
     "name": "stderr",
     "output_type": "stream",
     "text": [
      "[*********************100%***********************]  1 of 1 completed\n"
     ]
    },
    {
     "name": "stdout",
     "output_type": "stream",
     "text": [
      "Downloaded data for SBIN.NS\n"
     ]
    },
    {
     "name": "stderr",
     "output_type": "stream",
     "text": [
      "[*********************100%***********************]  1 of 1 completed\n"
     ]
    },
    {
     "name": "stdout",
     "output_type": "stream",
     "text": [
      "Downloaded data for BHARTIARTL.NS\n"
     ]
    },
    {
     "name": "stderr",
     "output_type": "stream",
     "text": [
      "[*********************100%***********************]  1 of 1 completed\n"
     ]
    },
    {
     "name": "stdout",
     "output_type": "stream",
     "text": [
      "Downloaded data for KOTAKBANK.NS\n"
     ]
    },
    {
     "name": "stderr",
     "output_type": "stream",
     "text": [
      "[*********************100%***********************]  1 of 1 completed\n"
     ]
    },
    {
     "name": "stdout",
     "output_type": "stream",
     "text": [
      "Downloaded data for ITC.NS\n"
     ]
    },
    {
     "name": "stderr",
     "output_type": "stream",
     "text": [
      "[*********************100%***********************]  1 of 1 completed\n"
     ]
    },
    {
     "name": "stdout",
     "output_type": "stream",
     "text": [
      "Downloaded data for ASIANPAINT.NS\n"
     ]
    },
    {
     "name": "stderr",
     "output_type": "stream",
     "text": [
      "[*********************100%***********************]  1 of 1 completed\n"
     ]
    },
    {
     "name": "stdout",
     "output_type": "stream",
     "text": [
      "Downloaded data for WIPRO.NS\n"
     ]
    },
    {
     "name": "stderr",
     "output_type": "stream",
     "text": [
      "[*********************100%***********************]  1 of 1 completed\n"
     ]
    },
    {
     "name": "stdout",
     "output_type": "stream",
     "text": [
      "Downloaded data for ADANIENT.NS\n"
     ]
    },
    {
     "name": "stderr",
     "output_type": "stream",
     "text": [
      "[*********************100%***********************]  1 of 1 completed\n"
     ]
    },
    {
     "name": "stdout",
     "output_type": "stream",
     "text": [
      "Downloaded data for LT.NS\n"
     ]
    },
    {
     "name": "stderr",
     "output_type": "stream",
     "text": [
      "[*********************100%***********************]  1 of 1 completed\n"
     ]
    },
    {
     "name": "stdout",
     "output_type": "stream",
     "text": [
      "Downloaded data for MARUTI.NS\n"
     ]
    },
    {
     "name": "stderr",
     "output_type": "stream",
     "text": [
      "[*********************100%***********************]  1 of 1 completed\n"
     ]
    },
    {
     "name": "stdout",
     "output_type": "stream",
     "text": [
      "Downloaded data for NESTLEIND.NS\n"
     ]
    },
    {
     "name": "stderr",
     "output_type": "stream",
     "text": [
      "[*********************100%***********************]  1 of 1 completed\n"
     ]
    },
    {
     "name": "stdout",
     "output_type": "stream",
     "text": [
      "Downloaded data for ULTRACEMCO.NS\n"
     ]
    },
    {
     "name": "stderr",
     "output_type": "stream",
     "text": [
      "[*********************100%***********************]  1 of 1 completed\n"
     ]
    },
    {
     "name": "stdout",
     "output_type": "stream",
     "text": [
      "Downloaded data for HCLTECH.NS\n"
     ]
    },
    {
     "name": "stderr",
     "output_type": "stream",
     "text": [
      "[*********************100%***********************]  1 of 1 completed\n"
     ]
    },
    {
     "name": "stdout",
     "output_type": "stream",
     "text": [
      "Downloaded data for TECHM.NS\n"
     ]
    },
    {
     "name": "stderr",
     "output_type": "stream",
     "text": [
      "[*********************100%***********************]  1 of 1 completed\n"
     ]
    },
    {
     "name": "stdout",
     "output_type": "stream",
     "text": [
      "Downloaded data for POWERGRID.NS\n"
     ]
    },
    {
     "ename": "KeyboardInterrupt",
     "evalue": "",
     "output_type": "error",
     "traceback": [
      "\u001b[1;31m---------------------------------------------------------------------------\u001b[0m",
      "\u001b[1;31mKeyboardInterrupt\u001b[0m                         Traceback (most recent call last)",
      "Cell \u001b[1;32mIn[4], line 8\u001b[0m\n\u001b[0;32m      6\u001b[0m \u001b[38;5;28;01mfor\u001b[39;00m ticker \u001b[38;5;129;01min\u001b[39;00m tickers:\n\u001b[0;32m      7\u001b[0m     \u001b[38;5;28;01mtry\u001b[39;00m:\n\u001b[1;32m----> 8\u001b[0m         stock_data \u001b[38;5;241m=\u001b[39m yf\u001b[38;5;241m.\u001b[39mdownload(ticker, start\u001b[38;5;241m=\u001b[39mstart_date, end\u001b[38;5;241m=\u001b[39mend_date)\n\u001b[0;32m      9\u001b[0m         stock_data\u001b[38;5;241m.\u001b[39mto_csv(\u001b[38;5;124mf\u001b[39m\u001b[38;5;124m\"\u001b[39m\u001b[38;5;132;01m{\u001b[39;00mticker\u001b[38;5;132;01m}\u001b[39;00m\u001b[38;5;124m_historical_data.csv\u001b[39m\u001b[38;5;124m\"\u001b[39m)\n\u001b[0;32m     10\u001b[0m         \u001b[38;5;28mprint\u001b[39m(\u001b[38;5;124mf\u001b[39m\u001b[38;5;124m\"\u001b[39m\u001b[38;5;124mDownloaded data for \u001b[39m\u001b[38;5;132;01m{\u001b[39;00mticker\u001b[38;5;132;01m}\u001b[39;00m\u001b[38;5;124m\"\u001b[39m)\n",
      "File \u001b[1;32m~\\anaconda3\\Lib\\site-packages\\yfinance\\utils.py:104\u001b[0m, in \u001b[0;36mlog_indent_decorator.<locals>.wrapper\u001b[1;34m(*args, **kwargs)\u001b[0m\n\u001b[0;32m    101\u001b[0m logger\u001b[38;5;241m.\u001b[39mdebug(\u001b[38;5;124mf\u001b[39m\u001b[38;5;124m'\u001b[39m\u001b[38;5;124mEntering \u001b[39m\u001b[38;5;132;01m{\u001b[39;00mfunc\u001b[38;5;241m.\u001b[39m\u001b[38;5;18m__name__\u001b[39m\u001b[38;5;132;01m}\u001b[39;00m\u001b[38;5;124m()\u001b[39m\u001b[38;5;124m'\u001b[39m)\n\u001b[0;32m    103\u001b[0m \u001b[38;5;28;01mwith\u001b[39;00m IndentationContext():\n\u001b[1;32m--> 104\u001b[0m     result \u001b[38;5;241m=\u001b[39m func(\u001b[38;5;241m*\u001b[39margs, \u001b[38;5;241m*\u001b[39m\u001b[38;5;241m*\u001b[39mkwargs)\n\u001b[0;32m    106\u001b[0m logger\u001b[38;5;241m.\u001b[39mdebug(\u001b[38;5;124mf\u001b[39m\u001b[38;5;124m'\u001b[39m\u001b[38;5;124mExiting \u001b[39m\u001b[38;5;132;01m{\u001b[39;00mfunc\u001b[38;5;241m.\u001b[39m\u001b[38;5;18m__name__\u001b[39m\u001b[38;5;132;01m}\u001b[39;00m\u001b[38;5;124m()\u001b[39m\u001b[38;5;124m'\u001b[39m)\n\u001b[0;32m    107\u001b[0m \u001b[38;5;28;01mreturn\u001b[39;00m result\n",
      "File \u001b[1;32m~\\anaconda3\\Lib\\site-packages\\yfinance\\multi.py:157\u001b[0m, in \u001b[0;36mdownload\u001b[1;34m(tickers, start, end, actions, threads, ignore_tz, group_by, auto_adjust, back_adjust, repair, keepna, progress, period, interval, prepost, proxy, rounding, timeout, session, multi_level_index)\u001b[0m\n\u001b[0;32m    150\u001b[0m         _download_one_threaded(ticker, period\u001b[38;5;241m=\u001b[39mperiod, interval\u001b[38;5;241m=\u001b[39minterval,\n\u001b[0;32m    151\u001b[0m                                start\u001b[38;5;241m=\u001b[39mstart, end\u001b[38;5;241m=\u001b[39mend, prepost\u001b[38;5;241m=\u001b[39mprepost,\n\u001b[0;32m    152\u001b[0m                                actions\u001b[38;5;241m=\u001b[39mactions, auto_adjust\u001b[38;5;241m=\u001b[39mauto_adjust,\n\u001b[0;32m    153\u001b[0m                                back_adjust\u001b[38;5;241m=\u001b[39mback_adjust, repair\u001b[38;5;241m=\u001b[39mrepair, keepna\u001b[38;5;241m=\u001b[39mkeepna,\n\u001b[0;32m    154\u001b[0m                                progress\u001b[38;5;241m=\u001b[39m(progress \u001b[38;5;129;01mand\u001b[39;00m i \u001b[38;5;241m>\u001b[39m \u001b[38;5;241m0\u001b[39m), proxy\u001b[38;5;241m=\u001b[39mproxy,\n\u001b[0;32m    155\u001b[0m                                rounding\u001b[38;5;241m=\u001b[39mrounding, timeout\u001b[38;5;241m=\u001b[39mtimeout)\n\u001b[0;32m    156\u001b[0m     \u001b[38;5;28;01mwhile\u001b[39;00m \u001b[38;5;28mlen\u001b[39m(shared\u001b[38;5;241m.\u001b[39m_DFS) \u001b[38;5;241m<\u001b[39m \u001b[38;5;28mlen\u001b[39m(tickers):\n\u001b[1;32m--> 157\u001b[0m         _time\u001b[38;5;241m.\u001b[39msleep(\u001b[38;5;241m0.01\u001b[39m)\n\u001b[0;32m    158\u001b[0m \u001b[38;5;66;03m# download synchronously\u001b[39;00m\n\u001b[0;32m    159\u001b[0m \u001b[38;5;28;01melse\u001b[39;00m:\n\u001b[0;32m    160\u001b[0m     \u001b[38;5;28;01mfor\u001b[39;00m i, ticker \u001b[38;5;129;01min\u001b[39;00m \u001b[38;5;28menumerate\u001b[39m(tickers):\n",
      "\u001b[1;31mKeyboardInterrupt\u001b[0m: "
     ]
    }
   ],
   "source": [
    "\n",
    "# Define date range\n",
    "start_date = \"2020-01-01\"\n",
    "end_date = \"2024-11-30\"\n",
    "\n",
    "# Fetch and save data\n",
    "for ticker in tickers:\n",
    "    try:\n",
    "        stock_data = yf.download(ticker, start=start_date, end=end_date)\n",
    "        stock_data.to_csv(f\"{ticker}_historical_data.csv\")\n",
    "        print(f\"Downloaded data for {ticker}\")\n",
    "    except Exception as e:\n",
    "        print(f\"Error downloading {ticker}: {e}\")\n"
   ]
  },
  {
   "cell_type": "code",
   "execution_count": null,
   "id": "29757700-676a-4c14-a78c-63cefef8ee9b",
   "metadata": {},
   "outputs": [],
   "source": [
    "import os"
   ]
  },
  {
   "cell_type": "code",
   "execution_count": null,
   "id": "c23255ca-5301-4456-afcb-5c2b5d412dbc",
   "metadata": {},
   "outputs": [],
   "source": [
    "os.getcwd()"
   ]
  },
  {
   "cell_type": "code",
   "execution_count": null,
   "id": "cc42eafe-9331-47fd-895c-dd61207ebc65",
   "metadata": {},
   "outputs": [],
   "source": [
    "import pandas as pd"
   ]
  },
  {
   "cell_type": "code",
   "execution_count": 3,
   "id": "84245755-4304-408d-a8d0-ccaad09d9390",
   "metadata": {},
   "outputs": [],
   "source": [
    "df=pd.read_csv(r\"C:\\Users\\hp\\POWERGRID.NS_historical_data.csv\")"
   ]
  },
  {
   "cell_type": "code",
   "execution_count": 5,
   "id": "090c1504-da22-4fdd-a398-696a0fc348b8",
   "metadata": {},
   "outputs": [
    {
     "data": {
      "text/html": [
       "<div>\n",
       "<style scoped>\n",
       "    .dataframe tbody tr th:only-of-type {\n",
       "        vertical-align: middle;\n",
       "    }\n",
       "\n",
       "    .dataframe tbody tr th {\n",
       "        vertical-align: top;\n",
       "    }\n",
       "\n",
       "    .dataframe thead th {\n",
       "        text-align: right;\n",
       "    }\n",
       "</style>\n",
       "<table border=\"1\" class=\"dataframe\">\n",
       "  <thead>\n",
       "    <tr style=\"text-align: right;\">\n",
       "      <th></th>\n",
       "      <th>Price</th>\n",
       "      <th>Adj Close</th>\n",
       "      <th>Close</th>\n",
       "      <th>High</th>\n",
       "      <th>Low</th>\n",
       "      <th>Open</th>\n",
       "      <th>Volume</th>\n",
       "    </tr>\n",
       "  </thead>\n",
       "  <tbody>\n",
       "    <tr>\n",
       "      <th>0</th>\n",
       "      <td>Ticker</td>\n",
       "      <td>POWERGRID.NS</td>\n",
       "      <td>POWERGRID.NS</td>\n",
       "      <td>POWERGRID.NS</td>\n",
       "      <td>POWERGRID.NS</td>\n",
       "      <td>POWERGRID.NS</td>\n",
       "      <td>POWERGRID.NS</td>\n",
       "    </tr>\n",
       "    <tr>\n",
       "      <th>1</th>\n",
       "      <td>Date</td>\n",
       "      <td>NaN</td>\n",
       "      <td>NaN</td>\n",
       "      <td>NaN</td>\n",
       "      <td>NaN</td>\n",
       "      <td>NaN</td>\n",
       "      <td>NaN</td>\n",
       "    </tr>\n",
       "    <tr>\n",
       "      <th>2</th>\n",
       "      <td>2020-01-01</td>\n",
       "      <td>81.32079315185547</td>\n",
       "      <td>109.96878051757812</td>\n",
       "      <td>110.19377899169922</td>\n",
       "      <td>107.0156478881836</td>\n",
       "      <td>107.18440246582031</td>\n",
       "      <td>13620373</td>\n",
       "    </tr>\n",
       "    <tr>\n",
       "      <th>3</th>\n",
       "      <td>2020-01-02</td>\n",
       "      <td>81.1544189453125</td>\n",
       "      <td>109.7437744140625</td>\n",
       "      <td>110.6437759399414</td>\n",
       "      <td>109.3218994140625</td>\n",
       "      <td>109.99690246582031</td>\n",
       "      <td>5673692</td>\n",
       "    </tr>\n",
       "    <tr>\n",
       "      <th>4</th>\n",
       "      <td>2020-01-03</td>\n",
       "      <td>80.28089141845703</td>\n",
       "      <td>108.56253051757812</td>\n",
       "      <td>109.57502746582031</td>\n",
       "      <td>107.5781478881836</td>\n",
       "      <td>109.26565551757812</td>\n",
       "      <td>7358268</td>\n",
       "    </tr>\n",
       "    <tr>\n",
       "      <th>...</th>\n",
       "      <td>...</td>\n",
       "      <td>...</td>\n",
       "      <td>...</td>\n",
       "      <td>...</td>\n",
       "      <td>...</td>\n",
       "      <td>...</td>\n",
       "      <td>...</td>\n",
       "    </tr>\n",
       "    <tr>\n",
       "      <th>1214</th>\n",
       "      <td>2024-11-25</td>\n",
       "      <td>342.75</td>\n",
       "      <td>342.75</td>\n",
       "      <td>345.3999938964844</td>\n",
       "      <td>336.1499938964844</td>\n",
       "      <td>341.8500061035156</td>\n",
       "      <td>29419152</td>\n",
       "    </tr>\n",
       "    <tr>\n",
       "      <th>1215</th>\n",
       "      <td>2024-11-26</td>\n",
       "      <td>338.79998779296875</td>\n",
       "      <td>338.79998779296875</td>\n",
       "      <td>344.6000061035156</td>\n",
       "      <td>337.8999938964844</td>\n",
       "      <td>342.0</td>\n",
       "      <td>13997179</td>\n",
       "    </tr>\n",
       "    <tr>\n",
       "      <th>1216</th>\n",
       "      <td>2024-11-27</td>\n",
       "      <td>339.25</td>\n",
       "      <td>339.25</td>\n",
       "      <td>341.29998779296875</td>\n",
       "      <td>336.5</td>\n",
       "      <td>337.25</td>\n",
       "      <td>12177260</td>\n",
       "    </tr>\n",
       "    <tr>\n",
       "      <th>1217</th>\n",
       "      <td>2024-11-28</td>\n",
       "      <td>333.6499938964844</td>\n",
       "      <td>333.6499938964844</td>\n",
       "      <td>341.75</td>\n",
       "      <td>332.20001220703125</td>\n",
       "      <td>339.25</td>\n",
       "      <td>16920231</td>\n",
       "    </tr>\n",
       "    <tr>\n",
       "      <th>1218</th>\n",
       "      <td>2024-11-29</td>\n",
       "      <td>329.3999938964844</td>\n",
       "      <td>329.3999938964844</td>\n",
       "      <td>332.5</td>\n",
       "      <td>326.5</td>\n",
       "      <td>331.3500061035156</td>\n",
       "      <td>13890537</td>\n",
       "    </tr>\n",
       "  </tbody>\n",
       "</table>\n",
       "<p>1219 rows × 7 columns</p>\n",
       "</div>"
      ],
      "text/plain": [
       "           Price           Adj Close               Close                High  \\\n",
       "0         Ticker        POWERGRID.NS        POWERGRID.NS        POWERGRID.NS   \n",
       "1           Date                 NaN                 NaN                 NaN   \n",
       "2     2020-01-01   81.32079315185547  109.96878051757812  110.19377899169922   \n",
       "3     2020-01-02    81.1544189453125   109.7437744140625   110.6437759399414   \n",
       "4     2020-01-03   80.28089141845703  108.56253051757812  109.57502746582031   \n",
       "...          ...                 ...                 ...                 ...   \n",
       "1214  2024-11-25              342.75              342.75   345.3999938964844   \n",
       "1215  2024-11-26  338.79998779296875  338.79998779296875   344.6000061035156   \n",
       "1216  2024-11-27              339.25              339.25  341.29998779296875   \n",
       "1217  2024-11-28   333.6499938964844   333.6499938964844              341.75   \n",
       "1218  2024-11-29   329.3999938964844   329.3999938964844               332.5   \n",
       "\n",
       "                     Low                Open        Volume  \n",
       "0           POWERGRID.NS        POWERGRID.NS  POWERGRID.NS  \n",
       "1                    NaN                 NaN           NaN  \n",
       "2      107.0156478881836  107.18440246582031      13620373  \n",
       "3      109.3218994140625  109.99690246582031       5673692  \n",
       "4      107.5781478881836  109.26565551757812       7358268  \n",
       "...                  ...                 ...           ...  \n",
       "1214   336.1499938964844   341.8500061035156      29419152  \n",
       "1215   337.8999938964844               342.0      13997179  \n",
       "1216               336.5              337.25      12177260  \n",
       "1217  332.20001220703125              339.25      16920231  \n",
       "1218               326.5   331.3500061035156      13890537  \n",
       "\n",
       "[1219 rows x 7 columns]"
      ]
     },
     "execution_count": 5,
     "metadata": {},
     "output_type": "execute_result"
    }
   ],
   "source": [
    "df"
   ]
  },
  {
   "cell_type": "code",
   "execution_count": null,
   "id": "f0bfbb1a-8535-4c01-a09e-866d4597867c",
   "metadata": {},
   "outputs": [],
   "source": [
    "df.tail()"
   ]
  },
  {
   "cell_type": "code",
   "execution_count": null,
   "id": "bcdf60c9-b54b-4f9f-a0f1-75a24a2ae21e",
   "metadata": {},
   "outputs": [],
   "source": [
    "df.info"
   ]
  },
  {
   "cell_type": "code",
   "execution_count": null,
   "id": "db8142d0-bab0-4beb-84f2-17d7f0353f2a",
   "metadata": {},
   "outputs": [],
   "source": [
    "df.describe()"
   ]
  },
  {
   "cell_type": "code",
   "execution_count": null,
   "id": "59007206-25cb-4aee-89ab-76e1cf4a6e60",
   "metadata": {},
   "outputs": [],
   "source": [
    "import os\n",
    "import pandas as pd\n",
    "\n",
    "# Directory where CSV files are stored\n",
    "input_directory = r\"C:\\Users\\hp\\data_set_ida\"\n",
    "\n",
    "# List all CSV files in the directory\n",
    "csv_files = [file for file in os.listdir(input_directory) if file.endswith('.csv')]\n",
    "\n",
    "\n",
    "# Create an empty DataFrame to store merged data\n",
    "merged_data = pd.DataFrame()\n"
   ]
  },
  {
   "cell_type": "code",
   "execution_count": null,
   "id": "5bbba2ac-f4ed-4110-9d09-ed21406d9412",
   "metadata": {},
   "outputs": [],
   "source": [
    "\n",
    "# Loop through each CSV file and merge\n",
    "for file in csv_files:\n",
    "    try:\n",
    "        # Read the CSV file\n",
    "        df = pd.read_csv(os.path.join(input_directory, file))\n",
    "        \n",
    "        # Extract the company name from the filename (e.g., RELIANCE.NS from RELIANCE.NS_historical_data.csv)\n",
    "        company_name = file.split('_historical_data.csv')[0]\n",
    "        \n",
    "        # Add a new column for the company name\n",
    "        df['Company'] = company_name\n",
    "        \n",
    "        # Append to the merged DataFrame\n",
    "\n",
    "        merged_data = pd.concat([merged_data, df], ignore_index=True)\n",
    "    except Exception as e:\n",
    "        print(f\"Error processing {file}: {e}\")\n"
   ]
  },
  {
   "cell_type": "code",
   "execution_count": null,
   "id": "fe376a9e-c73f-4672-b083-9f20c2fed88b",
   "metadata": {},
   "outputs": [],
   "source": [
    "\n",
    "# Save the merged DataFrame to a new CSV file\n",
    "output_file = \"all_stock_data.csv\"\n",
    "merged_data.to_csv(output_file, index=False)\n",
    "\n",
    "print(f\"Merged data saved to {output_file}\")\n"
   ]
  },
  {
   "cell_type": "code",
   "execution_count": 9,
   "id": "741e9641-d5e5-4cd6-ada1-b8ef809dfbc9",
   "metadata": {},
   "outputs": [
    {
     "name": "stderr",
     "output_type": "stream",
     "text": [
      "C:\\Users\\hp\\AppData\\Local\\Temp\\ipykernel_3124\\1298657550.py:1: DtypeWarning: Columns (8,9,10,11,12,13,14,15,16,17,18,19,20,21,22,23,24,25,26) have mixed types. Specify dtype option on import or set low_memory=False.\n",
      "  df=pd.read_csv(r\"C:\\Users\\hp\\merged_stock_data.csv\")\n"
     ]
    }
   ],
   "source": [
    "df=pd.read_csv(r\"C:\\Users\\hp\\merged_stock_data.csv\")"
   ]
  },
  {
   "cell_type": "code",
   "execution_count": 11,
   "id": "774cfe5b-2c3f-4c3f-bac3-f11a198915df",
   "metadata": {},
   "outputs": [
    {
     "data": {
      "text/html": [
       "<div>\n",
       "<style scoped>\n",
       "    .dataframe tbody tr th:only-of-type {\n",
       "        vertical-align: middle;\n",
       "    }\n",
       "\n",
       "    .dataframe tbody tr th {\n",
       "        vertical-align: top;\n",
       "    }\n",
       "\n",
       "    .dataframe thead th {\n",
       "        text-align: right;\n",
       "    }\n",
       "</style>\n",
       "<table border=\"1\" class=\"dataframe\">\n",
       "  <thead>\n",
       "    <tr style=\"text-align: right;\">\n",
       "      <th></th>\n",
       "      <th>Price</th>\n",
       "      <th>Adj Close</th>\n",
       "      <th>Close</th>\n",
       "      <th>High</th>\n",
       "      <th>Low</th>\n",
       "      <th>Open</th>\n",
       "      <th>Volume</th>\n",
       "      <th>Company</th>\n",
       "      <th>Ticker</th>\n",
       "      <th>Adj Close.1</th>\n",
       "      <th>...</th>\n",
       "      <th>Open.2</th>\n",
       "      <th>Volume.2</th>\n",
       "      <th>Adj Close.3</th>\n",
       "      <th>Close.3</th>\n",
       "      <th>High.3</th>\n",
       "      <th>Low.3</th>\n",
       "      <th>Open.3</th>\n",
       "      <th>Volume.3</th>\n",
       "      <th>id</th>\n",
       "      <th>target</th>\n",
       "    </tr>\n",
       "  </thead>\n",
       "  <tbody>\n",
       "    <tr>\n",
       "      <th>0</th>\n",
       "      <td>Ticker</td>\n",
       "      <td>ACA</td>\n",
       "      <td>ACA</td>\n",
       "      <td>ACA</td>\n",
       "      <td>ACA</td>\n",
       "      <td>ACA</td>\n",
       "      <td>ACA</td>\n",
       "      <td>ACA</td>\n",
       "      <td>NaN</td>\n",
       "      <td>NaN</td>\n",
       "      <td>...</td>\n",
       "      <td>NaN</td>\n",
       "      <td>NaN</td>\n",
       "      <td>NaN</td>\n",
       "      <td>NaN</td>\n",
       "      <td>NaN</td>\n",
       "      <td>NaN</td>\n",
       "      <td>NaN</td>\n",
       "      <td>NaN</td>\n",
       "      <td>NaN</td>\n",
       "      <td>NaN</td>\n",
       "    </tr>\n",
       "    <tr>\n",
       "      <th>1</th>\n",
       "      <td>Date</td>\n",
       "      <td>NaN</td>\n",
       "      <td>NaN</td>\n",
       "      <td>NaN</td>\n",
       "      <td>NaN</td>\n",
       "      <td>NaN</td>\n",
       "      <td>NaN</td>\n",
       "      <td>ACA</td>\n",
       "      <td>NaN</td>\n",
       "      <td>NaN</td>\n",
       "      <td>...</td>\n",
       "      <td>NaN</td>\n",
       "      <td>NaN</td>\n",
       "      <td>NaN</td>\n",
       "      <td>NaN</td>\n",
       "      <td>NaN</td>\n",
       "      <td>NaN</td>\n",
       "      <td>NaN</td>\n",
       "      <td>NaN</td>\n",
       "      <td>NaN</td>\n",
       "      <td>NaN</td>\n",
       "    </tr>\n",
       "    <tr>\n",
       "      <th>2</th>\n",
       "      <td>2020-01-02</td>\n",
       "      <td>45.021324157714844</td>\n",
       "      <td>45.810001373291016</td>\n",
       "      <td>45.869998931884766</td>\n",
       "      <td>44.52000045776367</td>\n",
       "      <td>44.779998779296875</td>\n",
       "      <td>625100</td>\n",
       "      <td>ACA</td>\n",
       "      <td>NaN</td>\n",
       "      <td>NaN</td>\n",
       "      <td>...</td>\n",
       "      <td>NaN</td>\n",
       "      <td>NaN</td>\n",
       "      <td>NaN</td>\n",
       "      <td>NaN</td>\n",
       "      <td>NaN</td>\n",
       "      <td>NaN</td>\n",
       "      <td>NaN</td>\n",
       "      <td>NaN</td>\n",
       "      <td>NaN</td>\n",
       "      <td>NaN</td>\n",
       "    </tr>\n",
       "    <tr>\n",
       "      <th>3</th>\n",
       "      <td>2020-01-03</td>\n",
       "      <td>44.91321563720703</td>\n",
       "      <td>45.70000076293945</td>\n",
       "      <td>45.97999954223633</td>\n",
       "      <td>45.130001068115234</td>\n",
       "      <td>45.540000915527344</td>\n",
       "      <td>317200</td>\n",
       "      <td>ACA</td>\n",
       "      <td>NaN</td>\n",
       "      <td>NaN</td>\n",
       "      <td>...</td>\n",
       "      <td>NaN</td>\n",
       "      <td>NaN</td>\n",
       "      <td>NaN</td>\n",
       "      <td>NaN</td>\n",
       "      <td>NaN</td>\n",
       "      <td>NaN</td>\n",
       "      <td>NaN</td>\n",
       "      <td>NaN</td>\n",
       "      <td>NaN</td>\n",
       "      <td>NaN</td>\n",
       "    </tr>\n",
       "    <tr>\n",
       "      <th>4</th>\n",
       "      <td>2020-01-06</td>\n",
       "      <td>44.67734909057617</td>\n",
       "      <td>45.459999084472656</td>\n",
       "      <td>45.61000061035156</td>\n",
       "      <td>45.119998931884766</td>\n",
       "      <td>45.2599983215332</td>\n",
       "      <td>241400</td>\n",
       "      <td>ACA</td>\n",
       "      <td>NaN</td>\n",
       "      <td>NaN</td>\n",
       "      <td>...</td>\n",
       "      <td>NaN</td>\n",
       "      <td>NaN</td>\n",
       "      <td>NaN</td>\n",
       "      <td>NaN</td>\n",
       "      <td>NaN</td>\n",
       "      <td>NaN</td>\n",
       "      <td>NaN</td>\n",
       "      <td>NaN</td>\n",
       "      <td>NaN</td>\n",
       "      <td>NaN</td>\n",
       "    </tr>\n",
       "    <tr>\n",
       "      <th>...</th>\n",
       "      <td>...</td>\n",
       "      <td>...</td>\n",
       "      <td>...</td>\n",
       "      <td>...</td>\n",
       "      <td>...</td>\n",
       "      <td>...</td>\n",
       "      <td>...</td>\n",
       "      <td>...</td>\n",
       "      <td>...</td>\n",
       "      <td>...</td>\n",
       "      <td>...</td>\n",
       "      <td>...</td>\n",
       "      <td>...</td>\n",
       "      <td>...</td>\n",
       "      <td>...</td>\n",
       "      <td>...</td>\n",
       "      <td>...</td>\n",
       "      <td>...</td>\n",
       "      <td>...</td>\n",
       "      <td>...</td>\n",
       "      <td>...</td>\n",
       "    </tr>\n",
       "    <tr>\n",
       "      <th>50018</th>\n",
       "      <td>2024-11-25</td>\n",
       "      <td>291.2250061035156</td>\n",
       "      <td>291.2250061035156</td>\n",
       "      <td>293.7749938964844</td>\n",
       "      <td>286.95001220703125</td>\n",
       "      <td>287.75</td>\n",
       "      <td>23297474</td>\n",
       "      <td>WIPRO.NS</td>\n",
       "      <td>NaN</td>\n",
       "      <td>NaN</td>\n",
       "      <td>...</td>\n",
       "      <td>NaN</td>\n",
       "      <td>NaN</td>\n",
       "      <td>NaN</td>\n",
       "      <td>NaN</td>\n",
       "      <td>NaN</td>\n",
       "      <td>NaN</td>\n",
       "      <td>NaN</td>\n",
       "      <td>NaN</td>\n",
       "      <td>NaN</td>\n",
       "      <td>NaN</td>\n",
       "    </tr>\n",
       "    <tr>\n",
       "      <th>50019</th>\n",
       "      <td>2024-11-26</td>\n",
       "      <td>294.5</td>\n",
       "      <td>294.5</td>\n",
       "      <td>295.17498779296875</td>\n",
       "      <td>289.6499938964844</td>\n",
       "      <td>292.5</td>\n",
       "      <td>15771340</td>\n",
       "      <td>WIPRO.NS</td>\n",
       "      <td>NaN</td>\n",
       "      <td>NaN</td>\n",
       "      <td>...</td>\n",
       "      <td>NaN</td>\n",
       "      <td>NaN</td>\n",
       "      <td>NaN</td>\n",
       "      <td>NaN</td>\n",
       "      <td>NaN</td>\n",
       "      <td>NaN</td>\n",
       "      <td>NaN</td>\n",
       "      <td>NaN</td>\n",
       "      <td>NaN</td>\n",
       "      <td>NaN</td>\n",
       "    </tr>\n",
       "    <tr>\n",
       "      <th>50020</th>\n",
       "      <td>2024-11-27</td>\n",
       "      <td>291.45001220703125</td>\n",
       "      <td>291.45001220703125</td>\n",
       "      <td>298.0</td>\n",
       "      <td>290.95001220703125</td>\n",
       "      <td>295.75</td>\n",
       "      <td>13659676</td>\n",
       "      <td>WIPRO.NS</td>\n",
       "      <td>NaN</td>\n",
       "      <td>NaN</td>\n",
       "      <td>...</td>\n",
       "      <td>NaN</td>\n",
       "      <td>NaN</td>\n",
       "      <td>NaN</td>\n",
       "      <td>NaN</td>\n",
       "      <td>NaN</td>\n",
       "      <td>NaN</td>\n",
       "      <td>NaN</td>\n",
       "      <td>NaN</td>\n",
       "      <td>NaN</td>\n",
       "      <td>NaN</td>\n",
       "    </tr>\n",
       "    <tr>\n",
       "      <th>50021</th>\n",
       "      <td>2024-11-28</td>\n",
       "      <td>286.1000061035156</td>\n",
       "      <td>286.1000061035156</td>\n",
       "      <td>293.0</td>\n",
       "      <td>285.2749938964844</td>\n",
       "      <td>292.875</td>\n",
       "      <td>11896556</td>\n",
       "      <td>WIPRO.NS</td>\n",
       "      <td>NaN</td>\n",
       "      <td>NaN</td>\n",
       "      <td>...</td>\n",
       "      <td>NaN</td>\n",
       "      <td>NaN</td>\n",
       "      <td>NaN</td>\n",
       "      <td>NaN</td>\n",
       "      <td>NaN</td>\n",
       "      <td>NaN</td>\n",
       "      <td>NaN</td>\n",
       "      <td>NaN</td>\n",
       "      <td>NaN</td>\n",
       "      <td>NaN</td>\n",
       "    </tr>\n",
       "    <tr>\n",
       "      <th>50022</th>\n",
       "      <td>2024-11-29</td>\n",
       "      <td>288.92498779296875</td>\n",
       "      <td>288.92498779296875</td>\n",
       "      <td>290.375</td>\n",
       "      <td>285.79998779296875</td>\n",
       "      <td>287.5</td>\n",
       "      <td>8540112</td>\n",
       "      <td>WIPRO.NS</td>\n",
       "      <td>NaN</td>\n",
       "      <td>NaN</td>\n",
       "      <td>...</td>\n",
       "      <td>NaN</td>\n",
       "      <td>NaN</td>\n",
       "      <td>NaN</td>\n",
       "      <td>NaN</td>\n",
       "      <td>NaN</td>\n",
       "      <td>NaN</td>\n",
       "      <td>NaN</td>\n",
       "      <td>NaN</td>\n",
       "      <td>NaN</td>\n",
       "      <td>NaN</td>\n",
       "    </tr>\n",
       "  </tbody>\n",
       "</table>\n",
       "<p>50023 rows × 29 columns</p>\n",
       "</div>"
      ],
      "text/plain": [
       "            Price           Adj Close               Close                High  \\\n",
       "0          Ticker                 ACA                 ACA                 ACA   \n",
       "1            Date                 NaN                 NaN                 NaN   \n",
       "2      2020-01-02  45.021324157714844  45.810001373291016  45.869998931884766   \n",
       "3      2020-01-03   44.91321563720703   45.70000076293945   45.97999954223633   \n",
       "4      2020-01-06   44.67734909057617  45.459999084472656   45.61000061035156   \n",
       "...           ...                 ...                 ...                 ...   \n",
       "50018  2024-11-25   291.2250061035156   291.2250061035156   293.7749938964844   \n",
       "50019  2024-11-26               294.5               294.5  295.17498779296875   \n",
       "50020  2024-11-27  291.45001220703125  291.45001220703125               298.0   \n",
       "50021  2024-11-28   286.1000061035156   286.1000061035156               293.0   \n",
       "50022  2024-11-29  288.92498779296875  288.92498779296875             290.375   \n",
       "\n",
       "                      Low                Open    Volume   Company Ticker  \\\n",
       "0                     ACA                 ACA       ACA       ACA    NaN   \n",
       "1                     NaN                 NaN       NaN       ACA    NaN   \n",
       "2       44.52000045776367  44.779998779296875    625100       ACA    NaN   \n",
       "3      45.130001068115234  45.540000915527344    317200       ACA    NaN   \n",
       "4      45.119998931884766    45.2599983215332    241400       ACA    NaN   \n",
       "...                   ...                 ...       ...       ...    ...   \n",
       "50018  286.95001220703125              287.75  23297474  WIPRO.NS    NaN   \n",
       "50019   289.6499938964844               292.5  15771340  WIPRO.NS    NaN   \n",
       "50020  290.95001220703125              295.75  13659676  WIPRO.NS    NaN   \n",
       "50021   285.2749938964844             292.875  11896556  WIPRO.NS    NaN   \n",
       "50022  285.79998779296875               287.5   8540112  WIPRO.NS    NaN   \n",
       "\n",
       "      Adj Close.1  ... Open.2 Volume.2 Adj Close.3 Close.3 High.3 Low.3  \\\n",
       "0             NaN  ...    NaN      NaN         NaN     NaN    NaN   NaN   \n",
       "1             NaN  ...    NaN      NaN         NaN     NaN    NaN   NaN   \n",
       "2             NaN  ...    NaN      NaN         NaN     NaN    NaN   NaN   \n",
       "3             NaN  ...    NaN      NaN         NaN     NaN    NaN   NaN   \n",
       "4             NaN  ...    NaN      NaN         NaN     NaN    NaN   NaN   \n",
       "...           ...  ...    ...      ...         ...     ...    ...   ...   \n",
       "50018         NaN  ...    NaN      NaN         NaN     NaN    NaN   NaN   \n",
       "50019         NaN  ...    NaN      NaN         NaN     NaN    NaN   NaN   \n",
       "50020         NaN  ...    NaN      NaN         NaN     NaN    NaN   NaN   \n",
       "50021         NaN  ...    NaN      NaN         NaN     NaN    NaN   NaN   \n",
       "50022         NaN  ...    NaN      NaN         NaN     NaN    NaN   NaN   \n",
       "\n",
       "      Open.3 Volume.3  id target  \n",
       "0        NaN      NaN NaN    NaN  \n",
       "1        NaN      NaN NaN    NaN  \n",
       "2        NaN      NaN NaN    NaN  \n",
       "3        NaN      NaN NaN    NaN  \n",
       "4        NaN      NaN NaN    NaN  \n",
       "...      ...      ...  ..    ...  \n",
       "50018    NaN      NaN NaN    NaN  \n",
       "50019    NaN      NaN NaN    NaN  \n",
       "50020    NaN      NaN NaN    NaN  \n",
       "50021    NaN      NaN NaN    NaN  \n",
       "50022    NaN      NaN NaN    NaN  \n",
       "\n",
       "[50023 rows x 29 columns]"
      ]
     },
     "execution_count": 11,
     "metadata": {},
     "output_type": "execute_result"
    }
   ],
   "source": [
    "df\n"
   ]
  },
  {
   "cell_type": "code",
   "execution_count": null,
   "id": "6ca590f3-77b2-42fe-854d-07e496de3128",
   "metadata": {},
   "outputs": [],
   "source": [
    "df.info()"
   ]
  },
  {
   "cell_type": "code",
   "execution_count": null,
   "id": "a3056adc-759d-4705-a27f-d9a3b9d001ea",
   "metadata": {},
   "outputs": [],
   "source": [
    "import os\n",
    "import pandas as pd\n",
    "\n",
    "# Directory where CSV files are stored\n",
    "input_directory = r\"C:\\Users\\hp\\merged_stock_data.csv\"\n",
    "\n",
    "# List all CSV files in the directory\n",
    "csv_files = [file for file in os.listdir(input_directory) if file.endswith('.csv')]\n",
    "\n",
    "# Create an empty DataFrame to store merged data\n",
    "merged_data = pd.DataFrame()\n",
    "\n",
    "# Loop through each CSV file and merge\n",
    "for file in csv_files:\n",
    "    try:\n",
    "        file_path = os.path.join(input_directory, file)\n",
    "        df = pd.read_csv(file_path)\n",
    "\n",
    "        # Extract the company name from the filename\n",
    "        company_name = file.split('_historical_data.csv')[0]\n",
    "        df['Company'] = company_name\n",
    "\n",
    "        # Append to the merged DataFrame\n",
    "        merged_data = pd.concat([merged_data, df], ignore_index=True)\n",
    "    except Exception as e:\n",
    "        print(f\"Error processing {file}: {e}\")\n",
    "\n",
    "# Clean the merged data\n",
    "# Remove metadata rows\n",
    "merged_data = merged_data[~merged_data['Price'].isin(['Ticker', 'Date'])]\n",
    "\n",
    "# Drop rows with excessive NaN values\n",
    "merged_data = merged_data.dropna(thresh=len(merged_data.columns) - 1)\n",
    "\n",
    "# Reset index\n",
    "merged_data.reset_index(drop=True, inplace=True)\n",
    "\n",
    "# Save the cleaned and merged DataFrame\n",
    "output_file = r\"C:\\Users\\hp\\data_set_ida\\cleaned_merged_stock_data.csv\"\n",
    "merged_data.to_csv(output_file, index=False)\n",
    "\n",
    "print(f\"Cleaned and merged data saved to {output_file}\")\n"
   ]
  },
  {
   "cell_type": "code",
   "execution_count": null,
   "id": "edc8ef4a-1d84-4bc4-85b8-9ca88b571dcd",
   "metadata": {},
   "outputs": [],
   "source": []
  },
  {
   "cell_type": "code",
   "execution_count": null,
   "id": "8106fb23-648d-4d2a-8d34-5fd7a50b7a5e",
   "metadata": {},
   "outputs": [],
   "source": []
  },
  {
   "cell_type": "code",
   "execution_count": null,
   "id": "f7eb3d8f-58da-43c7-940c-fd072bd8cc7d",
   "metadata": {},
   "outputs": [],
   "source": []
  },
  {
   "cell_type": "code",
   "execution_count": null,
   "id": "d535b05e-cb33-4e47-a9ba-9f7179f89f40",
   "metadata": {},
   "outputs": [],
   "source": []
  },
  {
   "cell_type": "code",
   "execution_count": null,
   "id": "18a6975a-480a-4627-b7f5-019c7dac29f5",
   "metadata": {},
   "outputs": [],
   "source": []
  },
  {
   "cell_type": "code",
   "execution_count": null,
   "id": "df1c4e94-a0fd-4709-ba92-f562a9e71b80",
   "metadata": {},
   "outputs": [],
   "source": []
  },
  {
   "cell_type": "markdown",
   "id": "53498db2-142d-4033-b4c2-f4e6591a5300",
   "metadata": {},
   "source": [
    "**Cleaned and merged data**"
   ]
  },
  {
   "cell_type": "code",
   "execution_count": null,
   "id": "53b9df75-9b33-457d-ac87-37e06b6814e4",
   "metadata": {},
   "outputs": [],
   "source": []
  },
  {
   "cell_type": "code",
   "execution_count": null,
   "id": "6d59140f-48fe-437e-98b2-f0e8707698e7",
   "metadata": {},
   "outputs": [],
   "source": []
  },
  {
   "cell_type": "code",
   "execution_count": null,
   "id": "e72efdab-b7ea-43be-93a9-4183ac39e352",
   "metadata": {},
   "outputs": [],
   "source": []
  },
  {
   "cell_type": "code",
   "execution_count": 19,
   "id": "c903a288-c549-4a2d-81d8-46949f7985fb",
   "metadata": {},
   "outputs": [],
   "source": [
    "df=pd.read_csv(r\"C:\\Users\\hp\\IDA_Stock_project\\data_set_ida\\main_data\\cleaned_stock_data_updated.csv\")"
   ]
  },
  {
   "cell_type": "code",
   "execution_count": 21,
   "id": "d86dd902-cb26-4d12-8203-799394059781",
   "metadata": {},
   "outputs": [
    {
     "data": {
      "text/html": [
       "<div>\n",
       "<style scoped>\n",
       "    .dataframe tbody tr th:only-of-type {\n",
       "        vertical-align: middle;\n",
       "    }\n",
       "\n",
       "    .dataframe tbody tr th {\n",
       "        vertical-align: top;\n",
       "    }\n",
       "\n",
       "    .dataframe thead th {\n",
       "        text-align: right;\n",
       "    }\n",
       "</style>\n",
       "<table border=\"1\" class=\"dataframe\">\n",
       "  <thead>\n",
       "    <tr style=\"text-align: right;\">\n",
       "      <th></th>\n",
       "      <th>Unnamed: 0</th>\n",
       "      <th>Date</th>\n",
       "      <th>Adj Close</th>\n",
       "      <th>Close</th>\n",
       "      <th>High</th>\n",
       "      <th>Low</th>\n",
       "      <th>Open</th>\n",
       "      <th>Volume</th>\n",
       "      <th>Company</th>\n",
       "    </tr>\n",
       "  </thead>\n",
       "  <tbody>\n",
       "    <tr>\n",
       "      <th>0</th>\n",
       "      <td>0</td>\n",
       "      <td>2020-01-02</td>\n",
       "      <td>45.021324</td>\n",
       "      <td>45.810001</td>\n",
       "      <td>45.869999</td>\n",
       "      <td>44.520000</td>\n",
       "      <td>44.779999</td>\n",
       "      <td>625100</td>\n",
       "      <td>ACA</td>\n",
       "    </tr>\n",
       "    <tr>\n",
       "      <th>1</th>\n",
       "      <td>1</td>\n",
       "      <td>2020-01-03</td>\n",
       "      <td>44.913216</td>\n",
       "      <td>45.700001</td>\n",
       "      <td>45.980000</td>\n",
       "      <td>45.130001</td>\n",
       "      <td>45.540001</td>\n",
       "      <td>317200</td>\n",
       "      <td>ACA</td>\n",
       "    </tr>\n",
       "    <tr>\n",
       "      <th>2</th>\n",
       "      <td>2</td>\n",
       "      <td>2020-01-06</td>\n",
       "      <td>44.677349</td>\n",
       "      <td>45.459999</td>\n",
       "      <td>45.610001</td>\n",
       "      <td>45.119999</td>\n",
       "      <td>45.259998</td>\n",
       "      <td>241400</td>\n",
       "      <td>ACA</td>\n",
       "    </tr>\n",
       "    <tr>\n",
       "      <th>3</th>\n",
       "      <td>3</td>\n",
       "      <td>2020-01-07</td>\n",
       "      <td>44.274406</td>\n",
       "      <td>45.049999</td>\n",
       "      <td>45.619999</td>\n",
       "      <td>44.709999</td>\n",
       "      <td>45.279999</td>\n",
       "      <td>199700</td>\n",
       "      <td>ACA</td>\n",
       "    </tr>\n",
       "    <tr>\n",
       "      <th>4</th>\n",
       "      <td>4</td>\n",
       "      <td>2020-01-08</td>\n",
       "      <td>44.824780</td>\n",
       "      <td>45.610001</td>\n",
       "      <td>45.740002</td>\n",
       "      <td>44.990002</td>\n",
       "      <td>45.020000</td>\n",
       "      <td>459300</td>\n",
       "      <td>ACA</td>\n",
       "    </tr>\n",
       "    <tr>\n",
       "      <th>...</th>\n",
       "      <td>...</td>\n",
       "      <td>...</td>\n",
       "      <td>...</td>\n",
       "      <td>...</td>\n",
       "      <td>...</td>\n",
       "      <td>...</td>\n",
       "      <td>...</td>\n",
       "      <td>...</td>\n",
       "      <td>...</td>\n",
       "    </tr>\n",
       "    <tr>\n",
       "      <th>43191</th>\n",
       "      <td>43191</td>\n",
       "      <td>2024-11-25</td>\n",
       "      <td>291.225006</td>\n",
       "      <td>291.225006</td>\n",
       "      <td>293.774994</td>\n",
       "      <td>286.950012</td>\n",
       "      <td>287.750000</td>\n",
       "      <td>23297474</td>\n",
       "      <td>WIPRO.NS</td>\n",
       "    </tr>\n",
       "    <tr>\n",
       "      <th>43192</th>\n",
       "      <td>43192</td>\n",
       "      <td>2024-11-26</td>\n",
       "      <td>294.500000</td>\n",
       "      <td>294.500000</td>\n",
       "      <td>295.174988</td>\n",
       "      <td>289.649994</td>\n",
       "      <td>292.500000</td>\n",
       "      <td>15771340</td>\n",
       "      <td>WIPRO.NS</td>\n",
       "    </tr>\n",
       "    <tr>\n",
       "      <th>43193</th>\n",
       "      <td>43193</td>\n",
       "      <td>2024-11-27</td>\n",
       "      <td>291.450012</td>\n",
       "      <td>291.450012</td>\n",
       "      <td>298.000000</td>\n",
       "      <td>290.950012</td>\n",
       "      <td>295.750000</td>\n",
       "      <td>13659676</td>\n",
       "      <td>WIPRO.NS</td>\n",
       "    </tr>\n",
       "    <tr>\n",
       "      <th>43194</th>\n",
       "      <td>43194</td>\n",
       "      <td>2024-11-28</td>\n",
       "      <td>286.100006</td>\n",
       "      <td>286.100006</td>\n",
       "      <td>293.000000</td>\n",
       "      <td>285.274994</td>\n",
       "      <td>292.875000</td>\n",
       "      <td>11896556</td>\n",
       "      <td>WIPRO.NS</td>\n",
       "    </tr>\n",
       "    <tr>\n",
       "      <th>43195</th>\n",
       "      <td>43195</td>\n",
       "      <td>2024-11-29</td>\n",
       "      <td>288.924988</td>\n",
       "      <td>288.924988</td>\n",
       "      <td>290.375000</td>\n",
       "      <td>285.799988</td>\n",
       "      <td>287.500000</td>\n",
       "      <td>8540112</td>\n",
       "      <td>WIPRO.NS</td>\n",
       "    </tr>\n",
       "  </tbody>\n",
       "</table>\n",
       "<p>43196 rows × 9 columns</p>\n",
       "</div>"
      ],
      "text/plain": [
       "       Unnamed: 0        Date   Adj Close       Close        High         Low  \\\n",
       "0               0  2020-01-02   45.021324   45.810001   45.869999   44.520000   \n",
       "1               1  2020-01-03   44.913216   45.700001   45.980000   45.130001   \n",
       "2               2  2020-01-06   44.677349   45.459999   45.610001   45.119999   \n",
       "3               3  2020-01-07   44.274406   45.049999   45.619999   44.709999   \n",
       "4               4  2020-01-08   44.824780   45.610001   45.740002   44.990002   \n",
       "...           ...         ...         ...         ...         ...         ...   \n",
       "43191       43191  2024-11-25  291.225006  291.225006  293.774994  286.950012   \n",
       "43192       43192  2024-11-26  294.500000  294.500000  295.174988  289.649994   \n",
       "43193       43193  2024-11-27  291.450012  291.450012  298.000000  290.950012   \n",
       "43194       43194  2024-11-28  286.100006  286.100006  293.000000  285.274994   \n",
       "43195       43195  2024-11-29  288.924988  288.924988  290.375000  285.799988   \n",
       "\n",
       "             Open    Volume   Company  \n",
       "0       44.779999    625100       ACA  \n",
       "1       45.540001    317200       ACA  \n",
       "2       45.259998    241400       ACA  \n",
       "3       45.279999    199700       ACA  \n",
       "4       45.020000    459300       ACA  \n",
       "...           ...       ...       ...  \n",
       "43191  287.750000  23297474  WIPRO.NS  \n",
       "43192  292.500000  15771340  WIPRO.NS  \n",
       "43193  295.750000  13659676  WIPRO.NS  \n",
       "43194  292.875000  11896556  WIPRO.NS  \n",
       "43195  287.500000   8540112  WIPRO.NS  \n",
       "\n",
       "[43196 rows x 9 columns]"
      ]
     },
     "execution_count": 21,
     "metadata": {},
     "output_type": "execute_result"
    }
   ],
   "source": [
    "df"
   ]
  },
  {
   "cell_type": "code",
   "execution_count": 23,
   "id": "442cee0d-5627-4299-b353-2b839d4048fa",
   "metadata": {},
   "outputs": [
    {
     "data": {
      "text/html": [
       "<div>\n",
       "<style scoped>\n",
       "    .dataframe tbody tr th:only-of-type {\n",
       "        vertical-align: middle;\n",
       "    }\n",
       "\n",
       "    .dataframe tbody tr th {\n",
       "        vertical-align: top;\n",
       "    }\n",
       "\n",
       "    .dataframe thead th {\n",
       "        text-align: right;\n",
       "    }\n",
       "</style>\n",
       "<table border=\"1\" class=\"dataframe\">\n",
       "  <thead>\n",
       "    <tr style=\"text-align: right;\">\n",
       "      <th></th>\n",
       "      <th>Unnamed: 0</th>\n",
       "      <th>Date</th>\n",
       "      <th>Adj Close</th>\n",
       "      <th>Close</th>\n",
       "      <th>High</th>\n",
       "      <th>Low</th>\n",
       "      <th>Open</th>\n",
       "      <th>Volume</th>\n",
       "      <th>Company</th>\n",
       "    </tr>\n",
       "  </thead>\n",
       "  <tbody>\n",
       "    <tr>\n",
       "      <th>0</th>\n",
       "      <td>0</td>\n",
       "      <td>2020-01-02</td>\n",
       "      <td>45.021324</td>\n",
       "      <td>45.810001</td>\n",
       "      <td>45.869999</td>\n",
       "      <td>44.520000</td>\n",
       "      <td>44.779999</td>\n",
       "      <td>625100</td>\n",
       "      <td>ACA</td>\n",
       "    </tr>\n",
       "    <tr>\n",
       "      <th>1</th>\n",
       "      <td>1</td>\n",
       "      <td>2020-01-03</td>\n",
       "      <td>44.913216</td>\n",
       "      <td>45.700001</td>\n",
       "      <td>45.980000</td>\n",
       "      <td>45.130001</td>\n",
       "      <td>45.540001</td>\n",
       "      <td>317200</td>\n",
       "      <td>ACA</td>\n",
       "    </tr>\n",
       "    <tr>\n",
       "      <th>2</th>\n",
       "      <td>2</td>\n",
       "      <td>2020-01-06</td>\n",
       "      <td>44.677349</td>\n",
       "      <td>45.459999</td>\n",
       "      <td>45.610001</td>\n",
       "      <td>45.119999</td>\n",
       "      <td>45.259998</td>\n",
       "      <td>241400</td>\n",
       "      <td>ACA</td>\n",
       "    </tr>\n",
       "    <tr>\n",
       "      <th>3</th>\n",
       "      <td>3</td>\n",
       "      <td>2020-01-07</td>\n",
       "      <td>44.274406</td>\n",
       "      <td>45.049999</td>\n",
       "      <td>45.619999</td>\n",
       "      <td>44.709999</td>\n",
       "      <td>45.279999</td>\n",
       "      <td>199700</td>\n",
       "      <td>ACA</td>\n",
       "    </tr>\n",
       "    <tr>\n",
       "      <th>4</th>\n",
       "      <td>4</td>\n",
       "      <td>2020-01-08</td>\n",
       "      <td>44.824780</td>\n",
       "      <td>45.610001</td>\n",
       "      <td>45.740002</td>\n",
       "      <td>44.990002</td>\n",
       "      <td>45.020000</td>\n",
       "      <td>459300</td>\n",
       "      <td>ACA</td>\n",
       "    </tr>\n",
       "    <tr>\n",
       "      <th>...</th>\n",
       "      <td>...</td>\n",
       "      <td>...</td>\n",
       "      <td>...</td>\n",
       "      <td>...</td>\n",
       "      <td>...</td>\n",
       "      <td>...</td>\n",
       "      <td>...</td>\n",
       "      <td>...</td>\n",
       "      <td>...</td>\n",
       "    </tr>\n",
       "    <tr>\n",
       "      <th>43191</th>\n",
       "      <td>43191</td>\n",
       "      <td>2024-11-25</td>\n",
       "      <td>291.225006</td>\n",
       "      <td>291.225006</td>\n",
       "      <td>293.774994</td>\n",
       "      <td>286.950012</td>\n",
       "      <td>287.750000</td>\n",
       "      <td>23297474</td>\n",
       "      <td>WIPRO.NS</td>\n",
       "    </tr>\n",
       "    <tr>\n",
       "      <th>43192</th>\n",
       "      <td>43192</td>\n",
       "      <td>2024-11-26</td>\n",
       "      <td>294.500000</td>\n",
       "      <td>294.500000</td>\n",
       "      <td>295.174988</td>\n",
       "      <td>289.649994</td>\n",
       "      <td>292.500000</td>\n",
       "      <td>15771340</td>\n",
       "      <td>WIPRO.NS</td>\n",
       "    </tr>\n",
       "    <tr>\n",
       "      <th>43193</th>\n",
       "      <td>43193</td>\n",
       "      <td>2024-11-27</td>\n",
       "      <td>291.450012</td>\n",
       "      <td>291.450012</td>\n",
       "      <td>298.000000</td>\n",
       "      <td>290.950012</td>\n",
       "      <td>295.750000</td>\n",
       "      <td>13659676</td>\n",
       "      <td>WIPRO.NS</td>\n",
       "    </tr>\n",
       "    <tr>\n",
       "      <th>43194</th>\n",
       "      <td>43194</td>\n",
       "      <td>2024-11-28</td>\n",
       "      <td>286.100006</td>\n",
       "      <td>286.100006</td>\n",
       "      <td>293.000000</td>\n",
       "      <td>285.274994</td>\n",
       "      <td>292.875000</td>\n",
       "      <td>11896556</td>\n",
       "      <td>WIPRO.NS</td>\n",
       "    </tr>\n",
       "    <tr>\n",
       "      <th>43195</th>\n",
       "      <td>43195</td>\n",
       "      <td>2024-11-29</td>\n",
       "      <td>288.924988</td>\n",
       "      <td>288.924988</td>\n",
       "      <td>290.375000</td>\n",
       "      <td>285.799988</td>\n",
       "      <td>287.500000</td>\n",
       "      <td>8540112</td>\n",
       "      <td>WIPRO.NS</td>\n",
       "    </tr>\n",
       "  </tbody>\n",
       "</table>\n",
       "<p>43196 rows × 9 columns</p>\n",
       "</div>"
      ],
      "text/plain": [
       "       Unnamed: 0        Date   Adj Close       Close        High         Low  \\\n",
       "0               0  2020-01-02   45.021324   45.810001   45.869999   44.520000   \n",
       "1               1  2020-01-03   44.913216   45.700001   45.980000   45.130001   \n",
       "2               2  2020-01-06   44.677349   45.459999   45.610001   45.119999   \n",
       "3               3  2020-01-07   44.274406   45.049999   45.619999   44.709999   \n",
       "4               4  2020-01-08   44.824780   45.610001   45.740002   44.990002   \n",
       "...           ...         ...         ...         ...         ...         ...   \n",
       "43191       43191  2024-11-25  291.225006  291.225006  293.774994  286.950012   \n",
       "43192       43192  2024-11-26  294.500000  294.500000  295.174988  289.649994   \n",
       "43193       43193  2024-11-27  291.450012  291.450012  298.000000  290.950012   \n",
       "43194       43194  2024-11-28  286.100006  286.100006  293.000000  285.274994   \n",
       "43195       43195  2024-11-29  288.924988  288.924988  290.375000  285.799988   \n",
       "\n",
       "             Open    Volume   Company  \n",
       "0       44.779999    625100       ACA  \n",
       "1       45.540001    317200       ACA  \n",
       "2       45.259998    241400       ACA  \n",
       "3       45.279999    199700       ACA  \n",
       "4       45.020000    459300       ACA  \n",
       "...           ...       ...       ...  \n",
       "43191  287.750000  23297474  WIPRO.NS  \n",
       "43192  292.500000  15771340  WIPRO.NS  \n",
       "43193  295.750000  13659676  WIPRO.NS  \n",
       "43194  292.875000  11896556  WIPRO.NS  \n",
       "43195  287.500000   8540112  WIPRO.NS  \n",
       "\n",
       "[43196 rows x 9 columns]"
      ]
     },
     "execution_count": 23,
     "metadata": {},
     "output_type": "execute_result"
    }
   ],
   "source": [
    "df.rename(columns={\"Price\": \"Date\"}, inplace=True)\n",
    "df"
   ]
  },
  {
   "cell_type": "code",
   "execution_count": 25,
   "id": "e35122ee-d583-4afa-bb13-4b396762afa7",
   "metadata": {},
   "outputs": [
    {
     "name": "stdout",
     "output_type": "stream",
     "text": [
      "<class 'pandas.core.frame.DataFrame'>\n",
      "RangeIndex: 43196 entries, 0 to 43195\n",
      "Data columns (total 9 columns):\n",
      " #   Column      Non-Null Count  Dtype  \n",
      "---  ------      --------------  -----  \n",
      " 0   Unnamed: 0  43196 non-null  int64  \n",
      " 1   Date        43196 non-null  object \n",
      " 2   Adj Close   43196 non-null  float64\n",
      " 3   Close       43196 non-null  float64\n",
      " 4   High        43196 non-null  float64\n",
      " 5   Low         43196 non-null  float64\n",
      " 6   Open        43196 non-null  float64\n",
      " 7   Volume      43196 non-null  int64  \n",
      " 8   Company     43196 non-null  object \n",
      "dtypes: float64(5), int64(2), object(2)\n",
      "memory usage: 3.0+ MB\n"
     ]
    }
   ],
   "source": [
    "df.info()"
   ]
  },
  {
   "cell_type": "code",
   "execution_count": 27,
   "id": "ad417ded-b186-4388-b7c8-089a3448c2a3",
   "metadata": {},
   "outputs": [
    {
     "data": {
      "text/html": [
       "<div>\n",
       "<style scoped>\n",
       "    .dataframe tbody tr th:only-of-type {\n",
       "        vertical-align: middle;\n",
       "    }\n",
       "\n",
       "    .dataframe tbody tr th {\n",
       "        vertical-align: top;\n",
       "    }\n",
       "\n",
       "    .dataframe thead th {\n",
       "        text-align: right;\n",
       "    }\n",
       "</style>\n",
       "<table border=\"1\" class=\"dataframe\">\n",
       "  <thead>\n",
       "    <tr style=\"text-align: right;\">\n",
       "      <th></th>\n",
       "      <th>Unnamed: 0</th>\n",
       "      <th>Adj Close</th>\n",
       "      <th>Close</th>\n",
       "      <th>High</th>\n",
       "      <th>Low</th>\n",
       "      <th>Open</th>\n",
       "      <th>Volume</th>\n",
       "    </tr>\n",
       "  </thead>\n",
       "  <tbody>\n",
       "    <tr>\n",
       "      <th>count</th>\n",
       "      <td>43196.000000</td>\n",
       "      <td>43196.000000</td>\n",
       "      <td>43196.000000</td>\n",
       "      <td>43196.000000</td>\n",
       "      <td>43196.000000</td>\n",
       "      <td>43196.000000</td>\n",
       "      <td>4.319600e+04</td>\n",
       "    </tr>\n",
       "    <tr>\n",
       "      <th>mean</th>\n",
       "      <td>21597.500000</td>\n",
       "      <td>1728.473107</td>\n",
       "      <td>1765.477909</td>\n",
       "      <td>1784.510277</td>\n",
       "      <td>1746.439258</td>\n",
       "      <td>1766.699910</td>\n",
       "      <td>9.118383e+06</td>\n",
       "    </tr>\n",
       "    <tr>\n",
       "      <th>std</th>\n",
       "      <td>12469.755451</td>\n",
       "      <td>2418.079476</td>\n",
       "      <td>2435.745793</td>\n",
       "      <td>2452.992502</td>\n",
       "      <td>2416.494506</td>\n",
       "      <td>2437.263251</td>\n",
       "      <td>2.304983e+07</td>\n",
       "    </tr>\n",
       "    <tr>\n",
       "      <th>min</th>\n",
       "      <td>0.000000</td>\n",
       "      <td>0.340000</td>\n",
       "      <td>0.340000</td>\n",
       "      <td>0.340000</td>\n",
       "      <td>0.340000</td>\n",
       "      <td>0.340000</td>\n",
       "      <td>0.000000e+00</td>\n",
       "    </tr>\n",
       "    <tr>\n",
       "      <th>25%</th>\n",
       "      <td>10798.750000</td>\n",
       "      <td>252.785278</td>\n",
       "      <td>259.287491</td>\n",
       "      <td>262.056252</td>\n",
       "      <td>254.537502</td>\n",
       "      <td>258.931259</td>\n",
       "      <td>8.919368e+05</td>\n",
       "    </tr>\n",
       "    <tr>\n",
       "      <th>50%</th>\n",
       "      <td>21597.500000</td>\n",
       "      <td>994.206909</td>\n",
       "      <td>1039.724976</td>\n",
       "      <td>1052.609985</td>\n",
       "      <td>1026.893555</td>\n",
       "      <td>1040.682129</td>\n",
       "      <td>2.624570e+06</td>\n",
       "    </tr>\n",
       "    <tr>\n",
       "      <th>75%</th>\n",
       "      <td>32396.250000</td>\n",
       "      <td>1911.935822</td>\n",
       "      <td>1948.612488</td>\n",
       "      <td>1970.000000</td>\n",
       "      <td>1926.024994</td>\n",
       "      <td>1950.000000</td>\n",
       "      <td>8.821002e+06</td>\n",
       "    </tr>\n",
       "    <tr>\n",
       "      <th>max</th>\n",
       "      <td>43195.000000</td>\n",
       "      <td>17000.000000</td>\n",
       "      <td>17000.000000</td>\n",
       "      <td>17000.000000</td>\n",
       "      <td>17000.000000</td>\n",
       "      <td>17000.000000</td>\n",
       "      <td>6.428460e+08</td>\n",
       "    </tr>\n",
       "  </tbody>\n",
       "</table>\n",
       "</div>"
      ],
      "text/plain": [
       "         Unnamed: 0     Adj Close         Close          High           Low  \\\n",
       "count  43196.000000  43196.000000  43196.000000  43196.000000  43196.000000   \n",
       "mean   21597.500000   1728.473107   1765.477909   1784.510277   1746.439258   \n",
       "std    12469.755451   2418.079476   2435.745793   2452.992502   2416.494506   \n",
       "min        0.000000      0.340000      0.340000      0.340000      0.340000   \n",
       "25%    10798.750000    252.785278    259.287491    262.056252    254.537502   \n",
       "50%    21597.500000    994.206909   1039.724976   1052.609985   1026.893555   \n",
       "75%    32396.250000   1911.935822   1948.612488   1970.000000   1926.024994   \n",
       "max    43195.000000  17000.000000  17000.000000  17000.000000  17000.000000   \n",
       "\n",
       "               Open        Volume  \n",
       "count  43196.000000  4.319600e+04  \n",
       "mean    1766.699910  9.118383e+06  \n",
       "std     2437.263251  2.304983e+07  \n",
       "min        0.340000  0.000000e+00  \n",
       "25%      258.931259  8.919368e+05  \n",
       "50%     1040.682129  2.624570e+06  \n",
       "75%     1950.000000  8.821002e+06  \n",
       "max    17000.000000  6.428460e+08  "
      ]
     },
     "execution_count": 27,
     "metadata": {},
     "output_type": "execute_result"
    }
   ],
   "source": [
    "df.describe()"
   ]
  },
  {
   "cell_type": "code",
   "execution_count": 29,
   "id": "4c9491fd-e13f-4a65-bece-cb60f34d1e82",
   "metadata": {},
   "outputs": [
    {
     "data": {
      "text/plain": [
       "array(['ACA', 'ADANIENT.NS', 'ASIANPAINT.NS', 'BAJFINANCE.NS',\n",
       "       'BHARTIARTL.NS', 'CIPLA.NS', 'COALINDIA.NS', 'CRDB', 'DCB',\n",
       "       'DRREDDY.NS', 'EICHERMOT.NS', 'GRASIM.NS', 'HCLTECH.NS',\n",
       "       'HDFCBANK.NS', 'HINDUNILVR.NS', 'ICICIBANK.NS', 'INDUSINDBK.NS',\n",
       "       'INFY.NS', 'ITC.NS', 'KOTAKBANK.NS', 'LT.NS', 'M&M.NS',\n",
       "       'MARUTI.NS', 'MBP', 'MCB', 'NESTLEIND.NS', 'NMB', 'PAL',\n",
       "       'POWERGRID.NS', 'RELIANCE.NS', 'SBIN.NS', 'SUNPHARMA.NS',\n",
       "       'TATASTEEL.NS', 'TBL', 'TCC', 'TCS.NS', 'TECHM.NS', 'TOL', 'TTP',\n",
       "       'ULTRACEMCO.NS', 'WIPRO.NS'], dtype=object)"
      ]
     },
     "execution_count": 29,
     "metadata": {},
     "output_type": "execute_result"
    }
   ],
   "source": [
    "df['Company'].unique()"
   ]
  },
  {
   "cell_type": "code",
   "execution_count": 31,
   "id": "7560a922-dc43-4e3d-9a4e-0a906eaad1fb",
   "metadata": {},
   "outputs": [
    {
     "data": {
      "text/plain": [
       "41"
      ]
     },
     "execution_count": 31,
     "metadata": {},
     "output_type": "execute_result"
    }
   ],
   "source": [
    "len(df['Company'].unique())"
   ]
  },
  {
   "cell_type": "code",
   "execution_count": 33,
   "id": "4ccbeae7-0c7b-4df4-9674-a03a0966ad24",
   "metadata": {},
   "outputs": [
    {
     "name": "stdout",
     "output_type": "stream",
     "text": [
      "\n"
     ]
    }
   ],
   "source": [
    "''' \n",
    "Indian Companies (30)\n",
    "\n",
    "ADANIENT.NS\n",
    "ASIANPAINT.NS\n",
    "BAJFINANCE.NS\n",
    "BHARTIARTL.NS\n",
    "CIPLA.NS\n",
    "COALINDIA.NS\n",
    "DRREDDY.NS\n",
    "EICHERMOT.NS\n",
    "GRASIM.NS\n",
    "HCLTECH.NS\n",
    "HDFCBANK.NS\n",
    "HINDUNILVR.NS\n",
    "ICICIBANK.NS\n",
    "INDUSINDBK.NS\n",
    "INFY.NS\n",
    "ITC.NS\n",
    "KOTAKBANK.NS\n",
    "LT.NS (Larsen & Toubro)\n",
    "M&M.NS (Mahindra & Mahindra)\n",
    "MARUTI.NS\n",
    "NESTLEIND.NS\n",
    "POWERGRID.NS\n",
    "RELIANCE.NS\n",
    "SBIN.NS (State Bank of India)\n",
    "SUNPHARMA.NS\n",
    "TATASTEEL.NS\n",
    "TCS.NS\n",
    "TECHM.NS\n",
    "ULTRACEMCO.NS\n",
    "WIPRO.NS\n",
    "\n",
    "\n",
    "Tanzanian Companies (11)\n",
    "\n",
    "ACA\n",
    "CRDB\n",
    "DCB\n",
    "MBP\n",
    "MCB\n",
    "NMB\n",
    "PAL\n",
    "TBL (Tanzania Breweries Limited)\n",
    "TCC (Tanzania Cigarette Company)\n",
    "TOL\n",
    "TTP\n",
    "'''\n",
    "print(\"\")"
   ]
  },
  {
   "cell_type": "code",
   "execution_count": 35,
   "id": "cdb0eb2f-3dc3-4824-9498-b69eabf9e35e",
   "metadata": {},
   "outputs": [],
   "source": [
    "df['Date']=pd.to_datetime(df['Date'])"
   ]
  },
  {
   "cell_type": "code",
   "execution_count": 37,
   "id": "0133a8a2-e531-4ae3-bfb4-e4f67711eaa0",
   "metadata": {},
   "outputs": [],
   "source": [
    "df.set_index(\"Date\",inplace=True)"
   ]
  },
  {
   "cell_type": "code",
   "execution_count": 39,
   "id": "3e465c8d-4533-46a0-baa4-eac8c6cf1b4e",
   "metadata": {},
   "outputs": [
    {
     "data": {
      "text/html": [
       "<div>\n",
       "<style scoped>\n",
       "    .dataframe tbody tr th:only-of-type {\n",
       "        vertical-align: middle;\n",
       "    }\n",
       "\n",
       "    .dataframe tbody tr th {\n",
       "        vertical-align: top;\n",
       "    }\n",
       "\n",
       "    .dataframe thead th {\n",
       "        text-align: right;\n",
       "    }\n",
       "</style>\n",
       "<table border=\"1\" class=\"dataframe\">\n",
       "  <thead>\n",
       "    <tr style=\"text-align: right;\">\n",
       "      <th></th>\n",
       "      <th>Unnamed: 0</th>\n",
       "      <th>Adj Close</th>\n",
       "      <th>Close</th>\n",
       "      <th>High</th>\n",
       "      <th>Low</th>\n",
       "      <th>Open</th>\n",
       "      <th>Volume</th>\n",
       "      <th>Company</th>\n",
       "    </tr>\n",
       "    <tr>\n",
       "      <th>Date</th>\n",
       "      <th></th>\n",
       "      <th></th>\n",
       "      <th></th>\n",
       "      <th></th>\n",
       "      <th></th>\n",
       "      <th></th>\n",
       "      <th></th>\n",
       "      <th></th>\n",
       "    </tr>\n",
       "  </thead>\n",
       "  <tbody>\n",
       "    <tr>\n",
       "      <th>2020-01-02</th>\n",
       "      <td>0</td>\n",
       "      <td>45.021324</td>\n",
       "      <td>45.810001</td>\n",
       "      <td>45.869999</td>\n",
       "      <td>44.520000</td>\n",
       "      <td>44.779999</td>\n",
       "      <td>625100</td>\n",
       "      <td>ACA</td>\n",
       "    </tr>\n",
       "    <tr>\n",
       "      <th>2020-01-03</th>\n",
       "      <td>1</td>\n",
       "      <td>44.913216</td>\n",
       "      <td>45.700001</td>\n",
       "      <td>45.980000</td>\n",
       "      <td>45.130001</td>\n",
       "      <td>45.540001</td>\n",
       "      <td>317200</td>\n",
       "      <td>ACA</td>\n",
       "    </tr>\n",
       "    <tr>\n",
       "      <th>2020-01-06</th>\n",
       "      <td>2</td>\n",
       "      <td>44.677349</td>\n",
       "      <td>45.459999</td>\n",
       "      <td>45.610001</td>\n",
       "      <td>45.119999</td>\n",
       "      <td>45.259998</td>\n",
       "      <td>241400</td>\n",
       "      <td>ACA</td>\n",
       "    </tr>\n",
       "    <tr>\n",
       "      <th>2020-01-07</th>\n",
       "      <td>3</td>\n",
       "      <td>44.274406</td>\n",
       "      <td>45.049999</td>\n",
       "      <td>45.619999</td>\n",
       "      <td>44.709999</td>\n",
       "      <td>45.279999</td>\n",
       "      <td>199700</td>\n",
       "      <td>ACA</td>\n",
       "    </tr>\n",
       "    <tr>\n",
       "      <th>2020-01-08</th>\n",
       "      <td>4</td>\n",
       "      <td>44.824780</td>\n",
       "      <td>45.610001</td>\n",
       "      <td>45.740002</td>\n",
       "      <td>44.990002</td>\n",
       "      <td>45.020000</td>\n",
       "      <td>459300</td>\n",
       "      <td>ACA</td>\n",
       "    </tr>\n",
       "    <tr>\n",
       "      <th>...</th>\n",
       "      <td>...</td>\n",
       "      <td>...</td>\n",
       "      <td>...</td>\n",
       "      <td>...</td>\n",
       "      <td>...</td>\n",
       "      <td>...</td>\n",
       "      <td>...</td>\n",
       "      <td>...</td>\n",
       "    </tr>\n",
       "    <tr>\n",
       "      <th>2024-11-25</th>\n",
       "      <td>43191</td>\n",
       "      <td>291.225006</td>\n",
       "      <td>291.225006</td>\n",
       "      <td>293.774994</td>\n",
       "      <td>286.950012</td>\n",
       "      <td>287.750000</td>\n",
       "      <td>23297474</td>\n",
       "      <td>WIPRO.NS</td>\n",
       "    </tr>\n",
       "    <tr>\n",
       "      <th>2024-11-26</th>\n",
       "      <td>43192</td>\n",
       "      <td>294.500000</td>\n",
       "      <td>294.500000</td>\n",
       "      <td>295.174988</td>\n",
       "      <td>289.649994</td>\n",
       "      <td>292.500000</td>\n",
       "      <td>15771340</td>\n",
       "      <td>WIPRO.NS</td>\n",
       "    </tr>\n",
       "    <tr>\n",
       "      <th>2024-11-27</th>\n",
       "      <td>43193</td>\n",
       "      <td>291.450012</td>\n",
       "      <td>291.450012</td>\n",
       "      <td>298.000000</td>\n",
       "      <td>290.950012</td>\n",
       "      <td>295.750000</td>\n",
       "      <td>13659676</td>\n",
       "      <td>WIPRO.NS</td>\n",
       "    </tr>\n",
       "    <tr>\n",
       "      <th>2024-11-28</th>\n",
       "      <td>43194</td>\n",
       "      <td>286.100006</td>\n",
       "      <td>286.100006</td>\n",
       "      <td>293.000000</td>\n",
       "      <td>285.274994</td>\n",
       "      <td>292.875000</td>\n",
       "      <td>11896556</td>\n",
       "      <td>WIPRO.NS</td>\n",
       "    </tr>\n",
       "    <tr>\n",
       "      <th>2024-11-29</th>\n",
       "      <td>43195</td>\n",
       "      <td>288.924988</td>\n",
       "      <td>288.924988</td>\n",
       "      <td>290.375000</td>\n",
       "      <td>285.799988</td>\n",
       "      <td>287.500000</td>\n",
       "      <td>8540112</td>\n",
       "      <td>WIPRO.NS</td>\n",
       "    </tr>\n",
       "  </tbody>\n",
       "</table>\n",
       "<p>43196 rows × 8 columns</p>\n",
       "</div>"
      ],
      "text/plain": [
       "            Unnamed: 0   Adj Close       Close        High         Low  \\\n",
       "Date                                                                     \n",
       "2020-01-02           0   45.021324   45.810001   45.869999   44.520000   \n",
       "2020-01-03           1   44.913216   45.700001   45.980000   45.130001   \n",
       "2020-01-06           2   44.677349   45.459999   45.610001   45.119999   \n",
       "2020-01-07           3   44.274406   45.049999   45.619999   44.709999   \n",
       "2020-01-08           4   44.824780   45.610001   45.740002   44.990002   \n",
       "...                ...         ...         ...         ...         ...   \n",
       "2024-11-25       43191  291.225006  291.225006  293.774994  286.950012   \n",
       "2024-11-26       43192  294.500000  294.500000  295.174988  289.649994   \n",
       "2024-11-27       43193  291.450012  291.450012  298.000000  290.950012   \n",
       "2024-11-28       43194  286.100006  286.100006  293.000000  285.274994   \n",
       "2024-11-29       43195  288.924988  288.924988  290.375000  285.799988   \n",
       "\n",
       "                  Open    Volume   Company  \n",
       "Date                                        \n",
       "2020-01-02   44.779999    625100       ACA  \n",
       "2020-01-03   45.540001    317200       ACA  \n",
       "2020-01-06   45.259998    241400       ACA  \n",
       "2020-01-07   45.279999    199700       ACA  \n",
       "2020-01-08   45.020000    459300       ACA  \n",
       "...                ...       ...       ...  \n",
       "2024-11-25  287.750000  23297474  WIPRO.NS  \n",
       "2024-11-26  292.500000  15771340  WIPRO.NS  \n",
       "2024-11-27  295.750000  13659676  WIPRO.NS  \n",
       "2024-11-28  292.875000  11896556  WIPRO.NS  \n",
       "2024-11-29  287.500000   8540112  WIPRO.NS  \n",
       "\n",
       "[43196 rows x 8 columns]"
      ]
     },
     "execution_count": 39,
     "metadata": {},
     "output_type": "execute_result"
    }
   ],
   "source": [
    "df"
   ]
  },
  {
   "cell_type": "code",
   "execution_count": 41,
   "id": "ccb3df4c-e03d-48bd-8f9f-622a602b5d3c",
   "metadata": {},
   "outputs": [],
   "source": [
    "import matplotlib.pyplot as plt\n",
    "\n",
    "# Group the data by the 'Company' column\n",
    "grouped = df.groupby('Company') \n"
   ]
  },
  {
   "cell_type": "code",
   "execution_count": 45,
   "id": "06f7573c-717d-45ed-a1b6-6e27a6498524",
   "metadata": {
    "scrolled": true
   },
   "outputs": [
    {
     "ename": "IndentationError",
     "evalue": "expected an indented block after 'for' statement on line 3 (604579151.py, line 4)",
     "output_type": "error",
     "traceback": [
      "\u001b[1;36m  Cell \u001b[1;32mIn[45], line 4\u001b[1;36m\u001b[0m\n\u001b[1;33m    for i, (company, group_data) in enumerate(grouped):\u001b[0m\n\u001b[1;37m    ^\u001b[0m\n\u001b[1;31mIndentationError\u001b[0m\u001b[1;31m:\u001b[0m expected an indented block after 'for' statement on line 3\n"
     ]
    }
   ],
   "source": [
    "\n",
    "# Plot for each company\n",
    "\n",
    "for company, group_data in grouped:\n",
    "for i, (company, group_data) in enumerate(grouped):\n",
    "    if i == 3:  # Stop after plotting the first 3 companies\n",
    "        break    \n",
    "    \n",
    "        plt.figure(figsize=(10, 6))  # Create a new figure for each company\n",
    "        plt.plot(group_data.index, group_data['Close'], label=f\"{company} Close Price\")\n",
    "        plt.title(f\"Close Price Trend for {company}\")\n",
    "        plt.xlabel(\"Date\")\n",
    "        plt.ylabel(\"Close Price\")\n",
    "        plt.legend()\n",
    "        plt.grid(True)\n",
    "        plt.show()\n",
    "        \n",
    "    \n"
   ]
  },
  {
   "cell_type": "code",
   "execution_count": null,
   "id": "2bb66212-61db-452b-ae84-561d127ae563",
   "metadata": {},
   "outputs": [],
   "source": [
    "df[\"Tomorrow\"] = df[\"Close\"].shift(-1)\n",
    "df"
   ]
  },
  {
   "cell_type": "code",
   "execution_count": null,
   "id": "4ad592cf-452f-4b2d-ae0e-019ab1a18f96",
   "metadata": {},
   "outputs": [],
   "source": [
    "\n",
    "df[\"Target\"] = (df[\"Tomorrow\"] > df[\"Close\"]).astype(int)\n",
    "df"
   ]
  },
  {
   "cell_type": "code",
   "execution_count": null,
   "id": "272be288-0e05-4f0a-ad1d-52e921c6ce73",
   "metadata": {},
   "outputs": [],
   "source": [
    "target_counts = df[\"Target\"].value_counts()\n",
    "target_counts"
   ]
  },
  {
   "cell_type": "code",
   "execution_count": null,
   "id": "ce51c34c-5b0b-4a46-8225-2c5bb73337e2",
   "metadata": {},
   "outputs": [],
   "source": [
    "from sklearn.ensemble import RandomForestClassifier\n",
    "\n",
    "model = RandomForestClassifier(n_estimators=200, min_samples_split=75, random_state=1)\n"
   ]
  },
  {
   "cell_type": "code",
   "execution_count": null,
   "id": "e3fabab3-e439-48a1-bfcc-c181c4d1e9aa",
   "metadata": {},
   "outputs": [],
   "source": [
    "\n",
    "#train = df.iloc[:-1000]\n",
    "#test = df.iloc[-1000:]\n"
   ]
  },
  {
   "cell_type": "code",
   "execution_count": null,
   "id": "b04ce0c1-1ff4-48fe-89f9-e74dd15c500c",
   "metadata": {},
   "outputs": [],
   "source": [
    "train = pd.DataFrame()\n",
    "test = pd.DataFrame()\n",
    "\n",
    "# Group by company\n",
    "grouped = df.groupby(\"Company\")\n",
    "\n",
    "for company, group_data in grouped:\n",
    "    group_data = group_data.sort_index()  # Ensure data is sorted by date\n",
    "    split_index = int(len(group_data) * 0.8)\n",
    "    train1 = group_data.iloc[:split_index]\n",
    "    test1 = group_data.iloc[split_index:]\n",
    "    train = pd.concat([train, train1])\n",
    "    test= pd.concat([test, test1])\n",
    "\n",
    "# Reset index\n",
    "train.reset_index(drop=True, inplace=True)\n",
    "test.reset_index(drop=True, inplace=True)\n"
   ]
  },
  {
   "cell_type": "code",
   "execution_count": null,
   "id": "fdb51530-1bec-4354-be88-f1acfbd41153",
   "metadata": {},
   "outputs": [],
   "source": [
    "\n",
    "predictors = [\"Close\", \"Volume\", \"Open\", \"High\", \"Low\"]\n",
    "model.fit(train[predictors], train[\"Target\"])"
   ]
  },
  {
   "cell_type": "code",
   "execution_count": null,
   "id": "35ff11d5-0260-41ef-8d3b-19e607013154",
   "metadata": {},
   "outputs": [],
   "source": [
    "from sklearn.metrics import precision_score\n",
    "\n",
    "preds = model.predict(test[predictors])\n"
   ]
  },
  {
   "cell_type": "code",
   "execution_count": null,
   "id": "52d8a6d8-6a6e-41bc-bc94-35fbcce6d853",
   "metadata": {},
   "outputs": [],
   "source": [
    "\n",
    "preds = pd.Series(preds, index=test.index)\n",
    "preds"
   ]
  },
  {
   "cell_type": "code",
   "execution_count": null,
   "id": "5ee9b2c8-97be-4c13-8218-6ff65016ea5b",
   "metadata": {},
   "outputs": [],
   "source": [
    "\n",
    "precision_score(test[\"Target\"], preds)"
   ]
  },
  {
   "cell_type": "code",
   "execution_count": null,
   "id": "8eca18ed-95ad-4c3f-bd72-b4afdfb22d86",
   "metadata": {},
   "outputs": [],
   "source": [
    "import matplotlib.pyplot as plt\n",
    "plt.figure(figsize=(12, 6))\n",
    "plt.plot(test.index, test[\"Target\"], label=\"Actual Target\", linestyle='-', marker='o')\n",
    "plt.plot(test.index, preds, label=\"Predicted Target\", linestyle='--', marker='x')\n",
    "plt.xlabel(\"Index\")\n",
    "plt.ylabel(\"Target\")\n",
    "plt.title(\"Actual vs Predicted Targets Over Time\")\n",
    "plt.legend()\n",
    "plt.grid(True)\n",
    "plt.show()\n"
   ]
  },
  {
   "cell_type": "code",
   "execution_count": null,
   "id": "aca6cd6c-6025-4fd8-adb7-2a7aa828a5bf",
   "metadata": {},
   "outputs": [],
   "source": [
    "df"
   ]
  },
  {
   "cell_type": "code",
   "execution_count": null,
   "id": "b0638520-18aa-4c46-a52f-c0a8d02f7583",
   "metadata": {},
   "outputs": [],
   "source": [
    "df.info()"
   ]
  },
  {
   "cell_type": "code",
   "execution_count": null,
   "id": "48ed201f-8cd3-475c-81c4-4695d7230216",
   "metadata": {},
   "outputs": [],
   "source": [
    "last_year = test.loc[test.index >= \"2023-12-01\"]  \n",
    "last_year_preds = preds.loc[last_year.index]\n",
    "\n",
    "\n",
    "plt.figure(figsize=(12, 6))\n",
    "plt.plot(last_year.index, last_year[\"Target\"], label=\"Actual Target\", linestyle='-', marker='o')\n",
    "plt.plot(last_year.index, last_year_preds, label=\"Predicted Target\", linestyle='--', marker='x')\n",
    "plt.xlabel(\"Date\")\n",
    "plt.ylabel(\"Target\")\n",
    "plt.title(\"Actual vs Predicted Targets (Last Year)\")\n",
    "plt.legend()\n",
    "plt.grid(True)\n",
    "plt.show()\n"
   ]
  },
  {
   "cell_type": "code",
   "execution_count": null,
   "id": "33ede563-0c66-429a-8f8c-a4beb3957803",
   "metadata": {},
   "outputs": [],
   "source": [
    "test.index = pd.to_datetime(test.index, errors=\"coerce\")\n",
    "\n",
    "last_month = test.loc[test.index >= \"2024-10-01\"]  \n",
    "last_month_preds = preds.loc[last_month.index]\n",
    "\n",
    "\n",
    "plt.figure(figsize=(12, 6))\n",
    "plt.plot(last_month.index, last_month[\"Target\"], label=\"Actual Target\", linestyle='-', marker='o')\n",
    "plt.plot(last_month.index, last_month_preds, label=\"Predicted Target\", linestyle='--', marker='x')\n",
    "plt.xlabel(\"Date\")\n",
    "plt.ylabel(\"Target\")\n",
    "plt.title(\"Actual vs Predicted Targets (Last month)\")\n",
    "plt.legend()\n",
    "plt.grid(True)\n",
    "plt.show()\n"
   ]
  },
  {
   "cell_type": "code",
   "execution_count": null,
   "id": "16c96ebf-83d4-44e1-b3ac-6011ff606e68",
   "metadata": {},
   "outputs": [],
   "source": [
    "print(test.index.min(), test.index.max())\n"
   ]
  },
  {
   "cell_type": "code",
   "execution_count": null,
   "id": "638c3876-86d9-452b-a3bc-f512e9725e07",
   "metadata": {},
   "outputs": [],
   "source": [
    "last_month = test.loc[test.index >= \"2024-11-01\"]\n",
    "print(last_month)\n"
   ]
  },
  {
   "cell_type": "code",
   "execution_count": null,
   "id": "9e4710ef-c37d-4395-a777-f336beca6297",
   "metadata": {},
   "outputs": [],
   "source": []
  },
  {
   "cell_type": "code",
   "execution_count": null,
   "id": "9d298cbb-9e89-49b6-a02b-be63051db084",
   "metadata": {},
   "outputs": [],
   "source": []
  },
  {
   "cell_type": "code",
   "execution_count": null,
   "id": "c1d9edd4-8613-4019-b6db-785256c2ab64",
   "metadata": {},
   "outputs": [],
   "source": []
  },
  {
   "cell_type": "code",
   "execution_count": null,
   "id": "7e834669-1812-4bf2-b2a0-1d63f283054e",
   "metadata": {},
   "outputs": [],
   "source": []
  },
  {
   "cell_type": "code",
   "execution_count": null,
   "id": "ae46da5c-feb8-44d8-b317-7f77696046ea",
   "metadata": {},
   "outputs": [],
   "source": []
  },
  {
   "cell_type": "code",
   "execution_count": null,
   "id": "57d1e229-352f-4d65-ad15-dc6acc7f27b9",
   "metadata": {},
   "outputs": [],
   "source": [
    "errors = test[\"Target\"] - preds\n",
    "plt.figure(figsize=(10, 6))\n",
    "plt.hist(errors, bins=20, edgecolor='k', alpha=0.7)\n",
    "plt.xlabel(\"Prediction Error\")\n",
    "plt.ylabel(\"Frequency\")\n",
    "plt.title(\"Distribution of Prediction Errors\")\n",
    "plt.grid(True)\n",
    "plt.show()\n"
   ]
  },
  {
   "cell_type": "code",
   "execution_count": null,
   "id": "9303a913-a5e1-4139-a181-378c4ab94e4f",
   "metadata": {},
   "outputs": [],
   "source": [
    "df\n"
   ]
  },
  {
   "cell_type": "code",
   "execution_count": null,
   "id": "5b54808f-77f1-458c-8edf-1299dccc4821",
   "metadata": {},
   "outputs": [],
   "source": []
  },
  {
   "cell_type": "code",
   "execution_count": null,
   "id": "020faf47-44c3-4623-b38a-6d2f76cde4f9",
   "metadata": {},
   "outputs": [],
   "source": []
  }
 ],
 "metadata": {
  "kernelspec": {
   "display_name": "Python 3 (ipykernel)",
   "language": "python",
   "name": "python3"
  },
  "language_info": {
   "codemirror_mode": {
    "name": "ipython",
    "version": 3
   },
   "file_extension": ".py",
   "mimetype": "text/x-python",
   "name": "python",
   "nbconvert_exporter": "python",
   "pygments_lexer": "ipython3",
   "version": "3.12.4"
  }
 },
 "nbformat": 4,
 "nbformat_minor": 5
}
